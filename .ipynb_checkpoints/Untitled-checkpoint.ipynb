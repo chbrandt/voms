{
 "cells": [
  {
   "cell_type": "code",
   "execution_count": 5,
   "metadata": {
    "collapsed": true
   },
   "outputs": [],
   "source": [
    "import numpy as np"
   ]
  },
  {
   "cell_type": "code",
   "execution_count": 52,
   "metadata": {
    "collapsed": true
   },
   "outputs": [],
   "source": [
    "# The following pipeline was taken from\n",
    "#https://medium.com/towards-data-science/machine-learning-nlp-text-classification-using-scikit-learn-python-and-nltk-c52b92a7c73a\n",
    "# a analogous, but more qualitative text is\n",
    "#https://medium.com/moosend-engineering-data-science/how-to-build-a-machine-learning-industry-classifier-5d19156d692f\n",
    "#\n",
    "def read_columns(config,parameter):\n",
    "    '''Read and parse column names from config'''\n",
    "    sections = list(config.keys())\n",
    "    sections.sort()\n",
    "    return [ config[s].get(parameter) for s in sections ]\n",
    "\n",
    "\n",
    "def read_columns_name(config):\n",
    "    import re\n",
    "    name_columns = read_columns(config,'columns')\n",
    "    out = []\n",
    "    for columns in name_columns:\n",
    "        blk = []\n",
    "        for i,column in enumerate(columns):\n",
    "            clean_column = re.sub('[^0-9a-zA-Z\\+\\-\\/\\*\\.]',' ',column).strip()\n",
    "            blk.append(clean_column)\n",
    "        out.append(blk)\n",
    "    return out\n",
    "\n",
    "def read_columns_description(config):\n",
    "    import re\n",
    "    import string\n",
    "    desc_columns = read_columns(config,'descriptions')\n",
    "    out = []\n",
    "    for columns in desc_columns:\n",
    "        blk = []\n",
    "        for i,column in enumerate(columns):\n",
    "            try:\n",
    "                clean_column = re.sub('[^0-9a-zA-Z ]','',column).strip()\n",
    "#                 clean_column = re.sub(string.punctuation,'',column).strip()\n",
    "            except:\n",
    "                print(i,column)\n",
    "                clean_column = ''\n",
    "            blk.append(clean_column)\n",
    "        out.append(blk)\n",
    "    return out\n",
    "\n",
    "def read_columns_ucd(config):\n",
    "    ucd_columns = read_columns(config,'ucds')\n",
    "    out = []\n",
    "    for columns in ucd_columns:\n",
    "        blk = []\n",
    "        for i,column in enumerate(columns):\n",
    "            primary_ucd = column.split(';')[0]\n",
    "            blk.append(primary_ucd)\n",
    "#             blk.append(column)\n",
    "        out.append(blk)\n",
    "    return out\n"
   ]
  },
  {
   "cell_type": "code",
   "execution_count": 53,
   "metadata": {
    "collapsed": true
   },
   "outputs": [],
   "source": [
    "import json\n",
    "with open('optical/CATALOGS.json','r') as f:\n",
    "    config = json.load(f)\n",
    "\n",
    "ucd_columns = read_columns_ucd(config)"
   ]
  },
  {
   "cell_type": "code",
   "execution_count": 54,
   "metadata": {},
   "outputs": [
    {
     "name": "stdout",
     "output_type": "stream",
     "text": [
      "1855\n"
     ]
    }
   ],
   "source": [
    "target_ucd = [ u for ucds in ucd_columns for u in ucds ]\n",
    "print(len(target_ucd))\n",
    "\n",
    "d_ucd2id = { u:i for i,u in enumerate(set(target_ucd)) }\n",
    "d_id2ucd = { d_ucd2id[u]:u for u in d_ucd2id }\n",
    "\n",
    "# target = map(lambda u:d_ucd2id[u], target_label)\n",
    "# from numpy import array\n",
    "# target = array(list(target))\n",
    "target_id = [ d_ucd2id[u] for u in target_ucd ]"
   ]
  },
  {
   "cell_type": "markdown",
   "metadata": {},
   "source": [
    "## Classifying the column names"
   ]
  },
  {
   "cell_type": "code",
   "execution_count": 9,
   "metadata": {},
   "outputs": [
    {
     "data": {
      "text/plain": [
       "(1855,)"
      ]
     },
     "execution_count": 9,
     "metadata": {},
     "output_type": "execute_result"
    }
   ],
   "source": [
    "name_columns = read_columns_name(config)\n",
    "assert len(name_columns) == len(ucd_columns)\n",
    "\n",
    "data = [ n for names in name_columns for n in names ]\n",
    "np.array(data).shape"
   ]
  },
  {
   "cell_type": "code",
   "execution_count": 11,
   "metadata": {
    "collapsed": true
   },
   "outputs": [],
   "source": [
    "from sklearn.feature_extraction.text import CountVectorizer\n",
    "from sklearn.feature_extraction.text import TfidfTransformer\n",
    "\n",
    "# Naive Bayes\n",
    "from sklearn.naive_bayes import MultinomialNB\n",
    "\n",
    "# SVM\n",
    "from sklearn.linear_model import SGDClassifier"
   ]
  },
  {
   "cell_type": "code",
   "execution_count": 13,
   "metadata": {},
   "outputs": [
    {
     "data": {
      "text/plain": [
       "'stat.error'"
      ]
     },
     "execution_count": 13,
     "metadata": {},
     "output_type": "execute_result"
    }
   ],
   "source": [
    "## Pipeline\n",
    "# Naive Bayes\n",
    "from sklearn.pipeline import Pipeline\n",
    "text_clf_nb = Pipeline([('vect', CountVectorizer()),\n",
    "                    ('tfidf', TfidfTransformer()),\n",
    "                    ('clf', MultinomialNB()),\n",
    "])\n",
    "text_clf_nb = text_clf_nb.fit(data,target_id)\n",
    "\n",
    "predict_nb = lambda w:d_id2ucd.get(text_clf_nb.predict([w])[0])\n",
    "predict_nb('mag')"
   ]
  },
  {
   "cell_type": "code",
   "execution_count": 14,
   "metadata": {},
   "outputs": [
    {
     "data": {
      "text/plain": [
       "'stat.error'"
      ]
     },
     "execution_count": 14,
     "metadata": {},
     "output_type": "execute_result"
    }
   ],
   "source": [
    "# SVM\n",
    "from sklearn.linear_model import SGDClassifier\n",
    "text_clf_svm = Pipeline([('vect', CountVectorizer()),\n",
    "                        ('tfidf', TfidfTransformer()),\n",
    "                        ('clf-svm', SGDClassifier(loss='log',\n",
    "                                                  penalty='l2', alpha=1e-3, \n",
    "                                                  max_iter=100, random_state=42)),\n",
    "                        ])\n",
    "_= text_clf_svm.fit(data,target_id)\n",
    "\n",
    "predict_svm = lambda w:d_id2ucd.get(text_clf_svm.predict([w])[0])\n",
    "predict_svm('mag')"
   ]
  },
  {
   "cell_type": "code",
   "execution_count": 15,
   "metadata": {},
   "outputs": [],
   "source": [
    "probs = text_clf_svm.predict_proba(['flux'])\n",
    "\n",
    "probs = probs.flatten()\n",
    "\n",
    "probs.shape\n",
    "\n",
    "ind_sort = probs.argsort()[::-1]\n",
    "\n",
    "ind_sort.shape\n",
    "\n",
    "# probs[ind_sort]\n",
    "\n",
    "list(map(d_id2ucd.get,ind_sort[:3]))"
   ]
  },
  {
   "cell_type": "code",
   "execution_count": 22,
   "metadata": {},
   "outputs": [
    {
     "data": {
      "text/plain": [
       "array([[ 0.00129342,  0.00172178,  0.00043253,  0.00043253,  0.00043253,\n",
       "         0.01199983,  0.00086367,  0.00043253,  0.03336593,  0.00172178,\n",
       "         0.00758915,  0.00043253,  0.0012976 ,  0.00043324,  0.00086367,\n",
       "         0.00043324,  0.00129342,  0.01404637,  0.00172178,  0.00172178,\n",
       "         0.00043253,  0.00086647,  0.00086367,  0.00086367,  0.00257852,\n",
       "         0.00086507,  0.00129551,  0.00043253,  0.00086367,  0.00043253,\n",
       "         0.00043253,  0.00043253,  0.00043324,  0.00043324,  0.00043253,\n",
       "         0.00043253,  0.00043253,  0.00043253,  0.00892439,  0.00172734,\n",
       "         0.00086507,  0.00043253,  0.00257438,  0.00172456,  0.00043253,\n",
       "         0.00043324,  0.00172178,  0.00086367,  0.00086367,  0.00043253,\n",
       "         0.00257268,  0.00043253,  0.00043324,  0.00129342,  0.00043253,\n",
       "         0.00043324,  0.00129342,  0.00043253,  0.00043253,  0.00043253,\n",
       "         0.00342152,  0.00257438,  0.00086367,  0.00172178,  0.00214877,\n",
       "         0.00043253,  0.00043225,  0.00086367,  0.01567539,  0.00086507,\n",
       "         0.00086367,  0.00257438,  0.00086367,  0.00129342,  0.00086367,\n",
       "         0.00214877,  0.00300344,  0.00086367,  0.00384307,  0.00043253,\n",
       "         0.00043324,  0.03336593,  0.00426326,  0.00043253,  0.00043253,\n",
       "         0.00756241,  0.00043253,  0.00043253,  0.00043253,  0.02640599,\n",
       "         0.00086367,  0.00043324,  0.00086367,  0.00043253,  0.00043253,\n",
       "         0.00344356,  0.00043253,  0.00043324,  0.00043253,  0.00172456,\n",
       "         0.00086367,  0.00043253,  0.00086367,  0.00086367,  0.02148548,\n",
       "         0.00086507,  0.00043253,  0.25178926,  0.00043253,  0.00086367,\n",
       "         0.00043253,  0.00043253,  0.00043225,  0.00129256,  0.00043253,\n",
       "         0.00043253,  0.00129342,  0.00043253,  0.00043253,  0.00593073,\n",
       "         0.00043253,  0.00129342,  0.00086367,  0.00068471,  0.00086367,\n",
       "         0.00341931,  0.00086367,  0.00172456,  0.00129342,  0.00214877,\n",
       "         0.00173294,  0.00043253,  0.00043253,  0.00043324,  0.00043253,\n",
       "         0.00214877,  0.00129551,  0.00043253,  0.00043253,  0.00043253,\n",
       "         0.00129342,  0.00043253,  0.00043253,  0.00086367,  0.00043253,\n",
       "         0.00172178,  0.00043253,  0.00043324,  0.00129342,  0.02133622,\n",
       "         0.00043253,  0.00684305,  0.00086309,  0.00043253,  0.00043253,\n",
       "         0.00043253,  0.00129342,  0.00043253,  0.00960633,  0.00043253,\n",
       "         0.00043253,  0.00086367,  0.00086367,  0.00086367,  0.00043253,\n",
       "         0.00043253,  0.02323204,  0.00214877,  0.03947385,  0.00086647,\n",
       "         0.00043253,  0.00346589,  0.00086367,  0.00043324,  0.00043324,\n",
       "         0.00300344,  0.00043253,  0.01678534,  0.00214591,  0.00043253,\n",
       "         0.00043253,  0.00043253,  0.03332684,  0.00043253,  0.00043253,\n",
       "         0.00719021,  0.00043253,  0.00215918,  0.0087757 ,  0.00086367,\n",
       "         0.00043253,  0.00384307,  0.00043253,  0.00043253,  0.00043253,\n",
       "         0.00086367,  0.00129551,  0.00043253,  0.00086367,  0.00299863,\n",
       "         0.00129342,  0.00043253,  0.00426326,  0.00086507,  0.00086647,\n",
       "         0.00086507,  0.00086367,  0.00636444,  0.01317999,  0.00172178,\n",
       "         0.00043253,  0.00043324,  0.0232318 ,  0.00129342,  0.00257097,\n",
       "         0.00043324,  0.00043324,  0.00384307,  0.00043253,  0.00043253,\n",
       "         0.00043253,  0.00043253,  0.00043253,  0.00086647,  0.00043253,\n",
       "         0.00129256,  0.00214877,  0.00043253,  0.00043324,  0.00043253,\n",
       "         0.00043324,  0.00043253,  0.00429064,  0.00086647,  0.00043253,\n",
       "         0.00129256,  0.00257438,  0.00043324,  0.00172178,  0.00172734,\n",
       "         0.0208395 ,  0.00043253,  0.00468212,  0.00299863,  0.00171949,\n",
       "         0.00086367,  0.00043253,  0.00043253,  0.00043253,  0.00172178,\n",
       "         0.01351313,  0.00086507,  0.00043253,  0.00129342,  0.00043253,\n",
       "         0.00043253,  0.00086507,  0.02758542,  0.00043324,  0.00043324,\n",
       "         0.00257438,  0.00043225,  0.00043324,  0.00342701,  0.00257438,\n",
       "         0.00043253,  0.00043324,  0.00043324,  0.00214877,  0.02987779,\n",
       "         0.00129262,  0.00043324,  0.00086367,  0.00043253,  0.00043253,\n",
       "         0.00129342,  0.00509965]])"
      ]
     },
     "execution_count": 22,
     "metadata": {},
     "output_type": "execute_result"
    }
   ],
   "source": [
    "text_clf_nb.predict_proba(['mag'])"
   ]
  },
  {
   "cell_type": "code",
   "execution_count": 23,
   "metadata": {
    "collapsed": true
   },
   "outputs": [],
   "source": [
    "# Save machine state\n",
    "from sklearn.externals import joblib\n",
    "joblib.dump(text_clf_svm, 'predict_svm.pkl')\n",
    "\n",
    "import json\n",
    "with open('targets_label-id.json','w') as fp:\n",
    "    json.dump(d_id2ucd,fp)"
   ]
  },
  {
   "cell_type": "code",
   "execution_count": 24,
   "metadata": {
    "collapsed": true
   },
   "outputs": [],
   "source": [
    "# Load machine\n",
    "clf = joblib.load('predict_svm.pkl')\n",
    "with open('targets_label-id.json','r') as fp:\n",
    "    target_map = { int(k):v for k,v in json.load(fp).items() }\n",
    "predict = lambda w:target_map.get(clf.predict([w])[0])"
   ]
  },
  {
   "cell_type": "code",
   "execution_count": 25,
   "metadata": {},
   "outputs": [
    {
     "data": {
      "text/plain": [
       "'POS_EQ_RA_MAIN'"
      ]
     },
     "execution_count": 25,
     "metadata": {},
     "output_type": "execute_result"
    }
   ],
   "source": [
    "predict('ra')"
   ]
  },
  {
   "cell_type": "markdown",
   "metadata": {},
   "source": [
    "## Classifying column descriptions"
   ]
  },
  {
   "cell_type": "code",
   "execution_count": 55,
   "metadata": {},
   "outputs": [
    {
     "name": "stdout",
     "output_type": "stream",
     "text": [
      "7 None\n",
      "8 None\n"
     ]
    },
    {
     "data": {
      "text/plain": [
       "(1855,)"
      ]
     },
     "execution_count": 55,
     "metadata": {},
     "output_type": "execute_result"
    }
   ],
   "source": [
    "desc_columns = read_columns_description(config)\n",
    "assert len(desc_columns) == len(ucd_columns)\n",
    "\n",
    "data = [ d for desc in desc_columns for d in desc ]\n",
    "np.array(data).shape"
   ]
  },
  {
   "cell_type": "code",
   "execution_count": 56,
   "metadata": {
    "collapsed": true
   },
   "outputs": [],
   "source": [
    "# from sklearn.feature_extraction.text import CountVectorizer\n",
    "# count_vect = CountVectorizer()\n",
    "# X_train_counts = count_vect.fit_transform(data)\n",
    "\n",
    "# from sklearn.feature_extraction.text import TfidfTransformer\n",
    "# tfidf_transformer = TfidfTransformer()\n",
    "# X_train_tfidf = tfidf_transformer.fit_transform(X_train_counts)\n",
    "\n",
    "# from sklearn.naive_bayes import MultinomialNB\n",
    "# clf = MultinomialNB().fit(X_train_tfidf,target_id)\n",
    "\n",
    "from sklearn.pipeline import Pipeline\n",
    "text_clf_nb = Pipeline([('vect', CountVectorizer()),\n",
    "                    ('tfidf', TfidfTransformer()),\n",
    "                    ('clf', MultinomialNB()),\n",
    "])\n",
    "text_clf_nb = text_clf_nb.fit(data,target_id)\n"
   ]
  },
  {
   "cell_type": "code",
   "execution_count": 59,
   "metadata": {},
   "outputs": [
    {
     "name": "stdout",
     "output_type": "stream",
     "text": [
      "phot.mag : 0.742\n",
      "stat.error : 0.061\n",
      "pos.angDistance : 0.011\n"
     ]
    }
   ],
   "source": [
    "probs = text_clf_nb.predict_proba(['magnitude auto'])\n",
    "\n",
    "probs = probs.flatten()\n",
    "ind_sort = probs.argsort()[::-1]\n",
    "\n",
    "predicted = [(d_id2ucd[i],probs[i]) for i in ind_sort[:3] ]\n",
    "# list(map(d_id2ucd.get,ind_sort[:3]))\n",
    "\n",
    "for u,p in predicted:\n",
    "    print('{} : {:.3f}'.format(u,p))"
   ]
  },
  {
   "cell_type": "code",
   "execution_count": 69,
   "metadata": {
    "collapsed": true
   },
   "outputs": [],
   "source": [
    "from sklearn.model_selection import train_test_split\n",
    "\n",
    "x_train, x_test, y_train, y_test = train_test_split(data, target_id, test_size=.1)\n",
    "\n",
    "text_clf_nb = text_clf_nb.fit(x_train,y_train)"
   ]
  },
  {
   "cell_type": "code",
   "execution_count": 80,
   "metadata": {},
   "outputs": [
    {
     "data": {
      "text/html": [
       "<div>\n",
       "<style scoped>\n",
       "    .dataframe tbody tr th:only-of-type {\n",
       "        vertical-align: middle;\n",
       "    }\n",
       "\n",
       "    .dataframe tbody tr th {\n",
       "        vertical-align: top;\n",
       "    }\n",
       "\n",
       "    .dataframe thead th {\n",
       "        text-align: right;\n",
       "    }\n",
       "</style>\n",
       "<table border=\"1\" class=\"dataframe\">\n",
       "  <thead>\n",
       "    <tr style=\"text-align: right;\">\n",
       "      <th></th>\n",
       "      <th>predicted</th>\n",
       "      <th>truth</th>\n",
       "    </tr>\n",
       "  </thead>\n",
       "  <tbody>\n",
       "    <tr>\n",
       "      <th>0</th>\n",
       "      <td>meta.ref.url</td>\n",
       "      <td>meta.ref.url</td>\n",
       "    </tr>\n",
       "    <tr>\n",
       "      <th>1</th>\n",
       "      <td>phys.abund</td>\n",
       "      <td>phys.abund</td>\n",
       "    </tr>\n",
       "    <tr>\n",
       "      <th>2</th>\n",
       "      <td>ID_MAIN</td>\n",
       "      <td>ID_MAIN</td>\n",
       "    </tr>\n",
       "    <tr>\n",
       "      <th>3</th>\n",
       "      <td>meta.record</td>\n",
       "      <td>meta.record</td>\n",
       "    </tr>\n",
       "    <tr>\n",
       "      <th>4</th>\n",
       "      <td>phot.mag</td>\n",
       "      <td>phys.absorption</td>\n",
       "    </tr>\n",
       "    <tr>\n",
       "      <th>5</th>\n",
       "      <td>stat.error</td>\n",
       "      <td>stat.error</td>\n",
       "    </tr>\n",
       "    <tr>\n",
       "      <th>6</th>\n",
       "      <td>stat.error</td>\n",
       "      <td>meta.code</td>\n",
       "    </tr>\n",
       "    <tr>\n",
       "      <th>7</th>\n",
       "      <td>stat.error</td>\n",
       "      <td>stat.error</td>\n",
       "    </tr>\n",
       "    <tr>\n",
       "      <th>8</th>\n",
       "      <td>stat.error</td>\n",
       "      <td>stat.fit.chi2</td>\n",
       "    </tr>\n",
       "    <tr>\n",
       "      <th>9</th>\n",
       "      <td>pos.eq.ra</td>\n",
       "      <td>pos.eq.ra</td>\n",
       "    </tr>\n",
       "    <tr>\n",
       "      <th>10</th>\n",
       "      <td>pos.eq.ra</td>\n",
       "      <td>pos.eq.ra</td>\n",
       "    </tr>\n",
       "    <tr>\n",
       "      <th>11</th>\n",
       "      <td>POS_EQ_RA_MAIN</td>\n",
       "      <td>POS_EQ_RA_MAIN</td>\n",
       "    </tr>\n",
       "    <tr>\n",
       "      <th>12</th>\n",
       "      <td>pos.eq.ra</td>\n",
       "      <td>pos.eq.ra</td>\n",
       "    </tr>\n",
       "    <tr>\n",
       "      <th>13</th>\n",
       "      <td>meta.number</td>\n",
       "      <td>meta.code</td>\n",
       "    </tr>\n",
       "    <tr>\n",
       "      <th>14</th>\n",
       "      <td>stat.error</td>\n",
       "      <td>spect.line.width</td>\n",
       "    </tr>\n",
       "    <tr>\n",
       "      <th>15</th>\n",
       "      <td>meta.number</td>\n",
       "      <td>meta.number</td>\n",
       "    </tr>\n",
       "    <tr>\n",
       "      <th>16</th>\n",
       "      <td>stat.error</td>\n",
       "      <td>stat.error</td>\n",
       "    </tr>\n",
       "    <tr>\n",
       "      <th>17</th>\n",
       "      <td>pos.angDistance</td>\n",
       "      <td>pos.angDistance</td>\n",
       "    </tr>\n",
       "    <tr>\n",
       "      <th>18</th>\n",
       "      <td>stat.error</td>\n",
       "      <td>phys.size.radius</td>\n",
       "    </tr>\n",
       "    <tr>\n",
       "      <th>19</th>\n",
       "      <td>meta.ref.url</td>\n",
       "      <td>DATA_LINK</td>\n",
       "    </tr>\n",
       "    <tr>\n",
       "      <th>20</th>\n",
       "      <td>stat.error</td>\n",
       "      <td>meta.id</td>\n",
       "    </tr>\n",
       "    <tr>\n",
       "      <th>21</th>\n",
       "      <td>pos.angDistance</td>\n",
       "      <td>pos.angDistance</td>\n",
       "    </tr>\n",
       "    <tr>\n",
       "      <th>22</th>\n",
       "      <td>meta.number</td>\n",
       "      <td>meta.ref</td>\n",
       "    </tr>\n",
       "    <tr>\n",
       "      <th>23</th>\n",
       "      <td>stat.error</td>\n",
       "      <td>stat.error</td>\n",
       "    </tr>\n",
       "    <tr>\n",
       "      <th>24</th>\n",
       "      <td>pos.angDistance</td>\n",
       "      <td>pos.distance</td>\n",
       "    </tr>\n",
       "    <tr>\n",
       "      <th>25</th>\n",
       "      <td>meta.number</td>\n",
       "      <td>meta.number</td>\n",
       "    </tr>\n",
       "    <tr>\n",
       "      <th>26</th>\n",
       "      <td>stat.error</td>\n",
       "      <td>meta.code</td>\n",
       "    </tr>\n",
       "    <tr>\n",
       "      <th>27</th>\n",
       "      <td>stat.error</td>\n",
       "      <td>meta.code</td>\n",
       "    </tr>\n",
       "    <tr>\n",
       "      <th>28</th>\n",
       "      <td>stat.error</td>\n",
       "      <td>pos.galactic.lon</td>\n",
       "    </tr>\n",
       "    <tr>\n",
       "      <th>29</th>\n",
       "      <td>src.redshift</td>\n",
       "      <td>src.redshift</td>\n",
       "    </tr>\n",
       "    <tr>\n",
       "      <th>...</th>\n",
       "      <td>...</td>\n",
       "      <td>...</td>\n",
       "    </tr>\n",
       "    <tr>\n",
       "      <th>156</th>\n",
       "      <td>meta.ref.url</td>\n",
       "      <td>meta.id</td>\n",
       "    </tr>\n",
       "    <tr>\n",
       "      <th>157</th>\n",
       "      <td>stat.error</td>\n",
       "      <td>stat.error</td>\n",
       "    </tr>\n",
       "    <tr>\n",
       "      <th>158</th>\n",
       "      <td>pos.eq.dec</td>\n",
       "      <td>pos.eq.dec</td>\n",
       "    </tr>\n",
       "    <tr>\n",
       "      <th>159</th>\n",
       "      <td>phot.mag</td>\n",
       "      <td>phot.mag</td>\n",
       "    </tr>\n",
       "    <tr>\n",
       "      <th>160</th>\n",
       "      <td>phot.mag</td>\n",
       "      <td>phot.mag</td>\n",
       "    </tr>\n",
       "    <tr>\n",
       "      <th>161</th>\n",
       "      <td>ID_MAIN</td>\n",
       "      <td>ID_MAIN</td>\n",
       "    </tr>\n",
       "    <tr>\n",
       "      <th>162</th>\n",
       "      <td>ID_MAIN</td>\n",
       "      <td>ID_NUMBER</td>\n",
       "    </tr>\n",
       "    <tr>\n",
       "      <th>163</th>\n",
       "      <td>POS_EQ_RA_MAIN</td>\n",
       "      <td>POS_EQ_RA_MAIN</td>\n",
       "    </tr>\n",
       "    <tr>\n",
       "      <th>164</th>\n",
       "      <td>meta.ref.url</td>\n",
       "      <td>meta.ref.url</td>\n",
       "    </tr>\n",
       "    <tr>\n",
       "      <th>165</th>\n",
       "      <td>phot.mag</td>\n",
       "      <td>phot.mag</td>\n",
       "    </tr>\n",
       "    <tr>\n",
       "      <th>166</th>\n",
       "      <td>stat.error</td>\n",
       "      <td>meta.code.error</td>\n",
       "    </tr>\n",
       "    <tr>\n",
       "      <th>167</th>\n",
       "      <td>ID_MAIN</td>\n",
       "      <td>meta.id</td>\n",
       "    </tr>\n",
       "    <tr>\n",
       "      <th>168</th>\n",
       "      <td>stat.error</td>\n",
       "      <td>time.epoch</td>\n",
       "    </tr>\n",
       "    <tr>\n",
       "      <th>169</th>\n",
       "      <td>meta.record</td>\n",
       "      <td>meta.record</td>\n",
       "    </tr>\n",
       "    <tr>\n",
       "      <th>170</th>\n",
       "      <td>phot.mag</td>\n",
       "      <td>spect.index</td>\n",
       "    </tr>\n",
       "    <tr>\n",
       "      <th>171</th>\n",
       "      <td>stat.error</td>\n",
       "      <td>phot.flux</td>\n",
       "    </tr>\n",
       "    <tr>\n",
       "      <th>172</th>\n",
       "      <td>stat.error</td>\n",
       "      <td>stat.error</td>\n",
       "    </tr>\n",
       "    <tr>\n",
       "      <th>173</th>\n",
       "      <td>stat.error</td>\n",
       "      <td>spect.resolution</td>\n",
       "    </tr>\n",
       "    <tr>\n",
       "      <th>174</th>\n",
       "      <td>stat.error</td>\n",
       "      <td>phys.angSize</td>\n",
       "    </tr>\n",
       "    <tr>\n",
       "      <th>175</th>\n",
       "      <td>phot.mag</td>\n",
       "      <td>phot.mag</td>\n",
       "    </tr>\n",
       "    <tr>\n",
       "      <th>176</th>\n",
       "      <td>stat.error</td>\n",
       "      <td>REDSHIFT_PHOT</td>\n",
       "    </tr>\n",
       "    <tr>\n",
       "      <th>177</th>\n",
       "      <td>pos.angDistance</td>\n",
       "      <td>pos.angDistance</td>\n",
       "    </tr>\n",
       "    <tr>\n",
       "      <th>178</th>\n",
       "      <td>POS_EQ_DEC_MAIN</td>\n",
       "      <td>POS_EQ_DEC_MAIN</td>\n",
       "    </tr>\n",
       "    <tr>\n",
       "      <th>179</th>\n",
       "      <td>POS_EQ_DEC_MAIN</td>\n",
       "      <td>ID_MAIN</td>\n",
       "    </tr>\n",
       "    <tr>\n",
       "      <th>180</th>\n",
       "      <td>stat.error</td>\n",
       "      <td>stat.error</td>\n",
       "    </tr>\n",
       "    <tr>\n",
       "      <th>181</th>\n",
       "      <td>pos.eq.ra</td>\n",
       "      <td>pos.eq.ra</td>\n",
       "    </tr>\n",
       "    <tr>\n",
       "      <th>182</th>\n",
       "      <td>POS_EQ_DEC_MAIN</td>\n",
       "      <td>time.period</td>\n",
       "    </tr>\n",
       "    <tr>\n",
       "      <th>183</th>\n",
       "      <td>POS_EQ_RA_MAIN</td>\n",
       "      <td>POS_EQ_RA_MAIN</td>\n",
       "    </tr>\n",
       "    <tr>\n",
       "      <th>184</th>\n",
       "      <td>meta.record</td>\n",
       "      <td>meta.record</td>\n",
       "    </tr>\n",
       "    <tr>\n",
       "      <th>185</th>\n",
       "      <td>phot.mag</td>\n",
       "      <td>phot.mag</td>\n",
       "    </tr>\n",
       "  </tbody>\n",
       "</table>\n",
       "<p>186 rows × 2 columns</p>\n",
       "</div>"
      ],
      "text/plain": [
       "           predicted             truth\n",
       "0       meta.ref.url      meta.ref.url\n",
       "1         phys.abund        phys.abund\n",
       "2            ID_MAIN           ID_MAIN\n",
       "3        meta.record       meta.record\n",
       "4           phot.mag   phys.absorption\n",
       "5         stat.error        stat.error\n",
       "6         stat.error         meta.code\n",
       "7         stat.error        stat.error\n",
       "8         stat.error     stat.fit.chi2\n",
       "9          pos.eq.ra         pos.eq.ra\n",
       "10         pos.eq.ra         pos.eq.ra\n",
       "11    POS_EQ_RA_MAIN    POS_EQ_RA_MAIN\n",
       "12         pos.eq.ra         pos.eq.ra\n",
       "13       meta.number         meta.code\n",
       "14        stat.error  spect.line.width\n",
       "15       meta.number       meta.number\n",
       "16        stat.error        stat.error\n",
       "17   pos.angDistance   pos.angDistance\n",
       "18        stat.error  phys.size.radius\n",
       "19      meta.ref.url         DATA_LINK\n",
       "20        stat.error           meta.id\n",
       "21   pos.angDistance   pos.angDistance\n",
       "22       meta.number          meta.ref\n",
       "23        stat.error        stat.error\n",
       "24   pos.angDistance      pos.distance\n",
       "25       meta.number       meta.number\n",
       "26        stat.error         meta.code\n",
       "27        stat.error         meta.code\n",
       "28        stat.error  pos.galactic.lon\n",
       "29      src.redshift      src.redshift\n",
       "..               ...               ...\n",
       "156     meta.ref.url           meta.id\n",
       "157       stat.error        stat.error\n",
       "158       pos.eq.dec        pos.eq.dec\n",
       "159         phot.mag          phot.mag\n",
       "160         phot.mag          phot.mag\n",
       "161          ID_MAIN           ID_MAIN\n",
       "162          ID_MAIN         ID_NUMBER\n",
       "163   POS_EQ_RA_MAIN    POS_EQ_RA_MAIN\n",
       "164     meta.ref.url      meta.ref.url\n",
       "165         phot.mag          phot.mag\n",
       "166       stat.error   meta.code.error\n",
       "167          ID_MAIN           meta.id\n",
       "168       stat.error        time.epoch\n",
       "169      meta.record       meta.record\n",
       "170         phot.mag       spect.index\n",
       "171       stat.error         phot.flux\n",
       "172       stat.error        stat.error\n",
       "173       stat.error  spect.resolution\n",
       "174       stat.error      phys.angSize\n",
       "175         phot.mag          phot.mag\n",
       "176       stat.error     REDSHIFT_PHOT\n",
       "177  pos.angDistance   pos.angDistance\n",
       "178  POS_EQ_DEC_MAIN   POS_EQ_DEC_MAIN\n",
       "179  POS_EQ_DEC_MAIN           ID_MAIN\n",
       "180       stat.error        stat.error\n",
       "181        pos.eq.ra         pos.eq.ra\n",
       "182  POS_EQ_DEC_MAIN       time.period\n",
       "183   POS_EQ_RA_MAIN    POS_EQ_RA_MAIN\n",
       "184      meta.record       meta.record\n",
       "185         phot.mag          phot.mag\n",
       "\n",
       "[186 rows x 2 columns]"
      ]
     },
     "execution_count": 80,
     "metadata": {},
     "output_type": "execute_result"
    }
   ],
   "source": [
    "predicted = [d_id2ucd[i] for i in text_clf_nb.predict(x_test)]\n",
    "assert len(predicted)==len(y_test)\n",
    "\n",
    "import pandas as pd\n",
    "df_eval = pd.DataFrame([(predicted[i],d_id2ucd[y_test[i]]) for i in range(len(y_test))], columns=['predicted','truth'])\n",
    "df_eval"
   ]
  },
  {
   "cell_type": "code",
   "execution_count": 81,
   "metadata": {},
   "outputs": [
    {
     "data": {
      "text/plain": [
       "0.5591397849462365"
      ]
     },
     "execution_count": 81,
     "metadata": {},
     "output_type": "execute_result"
    }
   ],
   "source": [
    "sum(df_eval.predicted == df_eval.truth)/len(df_eval)"
   ]
  },
  {
   "cell_type": "code",
   "execution_count": null,
   "metadata": {
    "collapsed": true
   },
   "outputs": [],
   "source": []
  }
 ],
 "metadata": {
  "kernelspec": {
   "display_name": "Python 3",
   "language": "python",
   "name": "python3"
  },
  "language_info": {
   "codemirror_mode": {
    "name": "ipython",
    "version": 3
   },
   "file_extension": ".py",
   "mimetype": "text/x-python",
   "name": "python",
   "nbconvert_exporter": "python",
   "pygments_lexer": "ipython3",
   "version": "3.6.1"
  }
 },
 "nbformat": 4,
 "nbformat_minor": 2
}
